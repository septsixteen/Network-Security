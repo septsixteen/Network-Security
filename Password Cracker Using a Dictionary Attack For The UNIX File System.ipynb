{
 "cells": [
  {
   "cell_type": "markdown",
   "metadata": {},
   "source": [
    "# Password Cracker Using a Dictionary Attack For The UNIX File System \n",
    "By Heidi Nguyen"
   ]
  },
  {
   "cell_type": "markdown",
   "metadata": {},
   "source": [
    "## Background\n",
    "    - UNIX stores all passwords in the file /etc/passwd. Well, it doesn’t store the password itself. Instead, it stores a signature of the password by using the password to encrypt a block of zero bits prepended by a salt value with a one-way function called crypt( ). The result of the crypt( ) function is stored in the /etc/passwd file. For example, for a password of “egg” and salt equal to “HX”, the function crypt(‘egg’,‘HX’) returns HX9LLTdc/jiDE.\n",
    "    - When you try to log in, the program /bin/login takes the password that you typed, uses crypt( ) to encrypt a block of zero bits, and compares the result of this function with the value stored in the /etc/passwd file.\n",
    "    - The security of this approach rests on both the strength of the crypt( ) function and the difficulty in guessing a user’s password. The crypt( ) algorithm has proven to be highly resistant to attacks. Conversely, the user’s choices for passwords have been found to be relatively easy to guess, with many passwords being words contained in the dictionary."
   ]
  },
  {
   "cell_type": "markdown",
   "metadata": {},
   "source": [
    "## The Original Unix crypt Password Mechanism: [1]\n",
    "-\tRead the first eight characters of the password (the rest is ignored).  If a shorter password is used, pad with zeros.   Using 7-bit ASCII results in a 56 bit partial key.\n",
    "-\tNext a 12 bit random value is chosen and encoded to form a salt, which has two character string from the ASCII letters and digits. Often the current time is used to generate the salt.\n",
    "-\t The salt is added to the partial key to generate the longer key that is used with DES encryption.\n",
    "-\t A message (a string of eight bytes initialized to all zeros) is then encrypted with DES using the key.  This results in 64 bits (eight bytes) of encrypted output.\n",
    "-\tThe encrypted output is used as the input message (in place of the zeros) and the encryption is repeated, for a total of 25 DES encryption cycles.  (Although DES encryption is used, the original message is known and thus this is more of a hash of the password than an encryption of the all zero message.)\n",
    "-\t The 64 bit result is then encoded to be all printable characters (letters and digits and periods only) that results in an 11 character ASCII string.\n",
    "-\tThe 2-character salt plus the 11 character encrypted text is stored in the password file.\n",
    "-\tTo validate a user's password, the entered password plus the retrieved salt value is used to generate the 11character result.  This result is compared, byte for byte, with the copy in the password file.\n",
    "    "
   ]
  },
  {
   "cell_type": "markdown",
   "metadata": {},
   "source": [
    "## Method\n",
    "\n",
    "A simple dictionary attack involves computing the possible signatures generated for each word in the dictionary with a range of salt values. \n",
    "\n",
    "    - We will need to use the crypt( ) algorithm, the crypt library, that hashes UNIX passwords. Note that the crypt library already exists in the Python 2.79 standard library (on UNIX-based operating systems). (Note: for Windows- based operating systems, you will need to find the correct way to import the UNIX crypt() algorithm.) \n",
    "    - To calculate the encrypted UNIX password signature, we simply call the function crypt.cypt( ) and pass it the password and salt as parameters. This function returns the signature as a string. \n",
    "    - Start your program by reading in the passwords.txt file and, for each password found in the file, iterate through each dictionary word found in the dictionary.txt file and appropriate salt value.\n",
    "    - Report out the password found, if any, for each user. If no password is found, indicate that no password was found. 2) Using literature review, identify from where you can retrieve the salt value used in generating the signature.\n"
   ]
  },
  {
   "cell_type": "code",
   "execution_count": 6,
   "metadata": {},
   "outputs": [
    {
     "name": "stdout",
     "output_type": "stream",
     "text": [
      "victim: HX9LLTdc/jiDE: 503:100:Iama Victim:/home/victim:/bin/sh\n",
      "root: DFNFxgW7C05fo: 504:100: Markus Hess:/root:/bin/bash\n",
      "apple\n",
      "orange\n",
      "egg\n",
      "lemon\n",
      "grapes\n",
      "secret\n",
      "strawberry\n",
      "password\n"
     ]
    }
   ],
   "source": [
    "# look at the files\n",
    "# load in the images \n",
    "%cat'passwords.txt'\n",
    "%cat'dictionary.txt'"
   ]
  },
  {
   "cell_type": "code",
   "execution_count": 2,
   "metadata": {},
   "outputs": [
    {
     "name": "stdout",
     "output_type": "stream",
     "text": [
      "cracking password for: victim\n",
      "pass found\n",
      "pass is: egg\n",
      "CryptWord with salt is: HX9LLTdc/jiDE\n",
      "pass found\n",
      "pass is: egg\n",
      "CryptWord with salt is: HX9LLTdc/jiDE\n",
      "cracking password for: root\n",
      "pass not found\n",
      "It took 0.00827813148499 seconds.\n"
     ]
    }
   ],
   "source": [
    "#libraries\n",
    "from PIL import Image\n",
    "import sys, os, random, struct, hashlib, time\n",
    "import crypt\n",
    "\n",
    "# We started by defining a function called testpass that take the pw variable called (CryptPass) \n",
    "# and compared it with each word in dictfile\n",
    "def test_pass(CryptPass, dictfile):\n",
    "    salt = CryptPass[0:2] # make sure that the salt is the first 2 characters of the cryptPass\n",
    "    # open the dictionary file\n",
    "    dict_file = open(dictfile, 'r')\n",
    "    # For each word in in the dictionary we want to know it's a new line.\n",
    "    # So it wont encrypt all the words in one, we do that by using ('\\n')\n",
    "    for word in dict_file.readlines():\n",
    "        #word = word.split(\"\\n\")\n",
    "        word = word.rstrip() # to remove all trailing space at the end\n",
    "        # Next we define a new variable called Cryptword and give it the data :\n",
    "        # crypt.crypt(word,salt) is encrypting the words in the dict with salt that is found in the CryptPass[0:2]\n",
    "        CryptWord  = crypt.crypt(word,salt)\n",
    "        # Now if the CryptWord is equal ('==') to the CryptPass,\n",
    "        # that means (the hashed word in dictionary and the salt) is the same as the passwd in the passfile.\n",
    "        # Then it means that the password has been found.\n",
    "        if CryptWord == CryptPass:\n",
    "            print \"pass found\"\n",
    "            print \"pass is: \" + word\n",
    "            print \"CryptWord with salt is: \" + CryptWord\n",
    "            return True # you can return True or just Return so it doesn't continue going thru the dict file. because you already founded the pass!\n",
    "        #         elif crypt.crypt(dict_file.readlines()[],salt) :\n",
    "        else:\n",
    "            continue # continue to the next word in the dict\n",
    "    return False # in the case there is no pass found, function return False\n",
    "\n",
    "# Here we have defined a second function called Main():\n",
    "# This is how /etc/shadow file look like:\n",
    "# Username or victim: HX9LLTdc/jiDE: 503:100:Iama Victim:/home/victim:/bin/sh\n",
    "#               root: DFNFxgW7C05fo: 504:100: Markus Hess:/root:/bin/bash\n",
    "\n",
    "def main(pass_file,dictfile):\n",
    "    #     opens the Passfile in read only mode.\n",
    "    passfile = open(pass_file, 'r')\n",
    "    #     it's going to read each line in the passfile.\n",
    "    for line in passfile.readlines():\n",
    "        #     Whenever there is an colon \": \" in the line.\n",
    "        #     You want to save the first word before the colon in the variable \"user\" or \"victim\".\n",
    "        #     After splitting by \":\", since the user is always before the colon --> [0] item in the list, and the hashed password is always after the colon,\n",
    "        #     so I'm going to grab the [1] item in the list\n",
    "        if \":\" in line: # for general application, it should be just \":\" or \"Username:\"\n",
    "            user = line.split(\":\")[0] # splitting the username or victim and the password by the colon \":\"\n",
    "            cryptPass = line.split(\":\")[1].strip(' ') # the .split(' ') to make sure that there aren't any spaces between them.\n",
    "            print \"cracking password for: \" + user\n",
    "            # call test_pass()\n",
    "            test_pass(cryptPass,dictfile)\n",
    "            found_pass = test_pass(cryptPass,dictfile) # when there is pass found, test_pass() return True\n",
    "            \n",
    "            # print when there is no pass found, where test_pass() return False\n",
    "            if found_pass == False:\n",
    "                print \"pass not found\"\n",
    "\n",
    "# calling functions\n",
    "if __name__ == '__main__':\n",
    "    start = time.time()\n",
    "    # Set wd\n",
    "    path = os.chdir(\"/Users/heidinguyen/Downloads/\")\n",
    "#    path = \"/Volumes/NO NAME 1/Data Science/2018-0106 MSDS 7349 Data and Network Security/Unit 13 - Quiz 12 & HW 3/HW 3/\"\n",
    "    #call main()\n",
    "    pass_file = 'passwords.txt'\n",
    "    dictfile = 'dictionary.txt'\n",
    "    main(pass_file,dictfile)\n",
    "    print 'It took', time.time()-start, 'seconds.'\n",
    "\n"
   ]
  },
  {
   "cell_type": "markdown",
   "metadata": {},
   "source": [
    "Reference: \n",
    "    \n",
    "    1. Violent Python: A Cookbook for Hackers, Forensic Analysts, Penetration Testers and Security Engineers by TJ O'Connor\n",
    "    2. https://github.com/shadow-box/Violent-Python-Examples/tree/master/Chapter-1\n",
    "    3. http://stackoverflow.com/questions/26021982/python-crypt-equivalent-for-windows\n",
    "    4. https://pythonhosted.org/passlib/lib/passlib.hash.des_crypt.html\n"
   ]
  },
  {
   "cell_type": "code",
   "execution_count": null,
   "metadata": {},
   "outputs": [],
   "source": []
  }
 ],
 "metadata": {
  "kernelspec": {
   "display_name": "Python 2",
   "language": "python",
   "name": "python2"
  },
  "language_info": {
   "codemirror_mode": {
    "name": "ipython",
    "version": 2
   },
   "file_extension": ".py",
   "mimetype": "text/x-python",
   "name": "python",
   "nbconvert_exporter": "python",
   "pygments_lexer": "ipython2",
   "version": "2.7.15"
  }
 },
 "nbformat": 4,
 "nbformat_minor": 2
}
