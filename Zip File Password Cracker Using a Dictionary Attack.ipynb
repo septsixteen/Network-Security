{
 "cells": [
  {
   "cell_type": "markdown",
   "metadata": {},
   "source": [
    "# Zip File Password Cracker Using zipfile Library and extractall( ) Method.\n",
    "By Heidi Nguyen"
   ]
  },
  {
   "cell_type": "markdown",
   "metadata": {},
   "source": [
    "## Method\n",
    "\n",
    "The goal of this exercise is to write a zip file extractor and password cracker. We will use the zipfile library. You may use the extractall( ) method to extract the contents from a zip file.\n",
    "   \n",
    "    1) Write a quick script to test the use of the zipfile library. After importing the library, instantiate a new ZipFile class by specifying the filename of the password-protected zip file (evil.zip). utilize the extractall( ) method and specify the optional parameter for the password (secret). \n",
    "    \n",
    "    2) Use the except Exception exception handler to catch exceptions and print them out when an incorrect password is used. Execute your script with an incorrect password and exception handler and turn in the code and output.\n",
    "    \n",
    "    3) Write a script that performs a dictionary attack on the password protected zip file. Execute your script and turn in the code and output. Be sure to provide user feedback on exceptions thrown.\n"
   ]
  },
  {
   "cell_type": "code",
   "execution_count": 2,
   "metadata": {},
   "outputs": [
    {
     "name": "stdout",
     "output_type": "stream",
     "text": [
      "apple is not a correct password\n",
      "orange is not a correct password\n",
      "egg is not a correct password\n",
      "lemon is not a correct password\n",
      "grapes is not a correct password\n",
      "secret IS THE CORRECT PASSWORD\n",
      "It took 0.17632818222 seconds.\n"
     ]
    }
   ],
   "source": [
    "#libraries\n",
    "from PIL import Image\n",
    "import sys, os, random, struct, hashlib, time\n",
    "import zipfile\n",
    "\n",
    "#check if the Zip file exists, if yes, extract it\n",
    "def extractFile(zipFile, dictfile):\n",
    "    #check if the Zip file exists\n",
    "    try:\n",
    "        # create object for zip file\n",
    "        zip_file = zipfile.ZipFile(zipFile)\n",
    "    except zipfile.BadZipfile:\n",
    "        print \"Error with file path.\"\n",
    "        quit()\n",
    "    \n",
    "    # open the dictionary file\n",
    "    dict_file = open(dictfile, 'r')\n",
    "    # For each word in in the dictionary we want to know it's a new line.\n",
    "    # So it wont encrypt all the words in one, we do that by using ('\\n')\n",
    "    for word in dict_file.readlines():\n",
    "        #word = word.split(\"\\n\")\n",
    "        password = word.rstrip() # to remove all trailing space at the end\n",
    "        try:\n",
    "            zip_file.extractall(path=None, members=None, pwd=password)\n",
    "            zip_file.close\n",
    "            #         print \"pass found\"\n",
    "            print password + \" IS THE CORRECT PASSWORD\"\n",
    "            break # # you can return True or just Return so it doesn't continue going thru the dict file. because you already founded the pass!\n",
    "        except Exception:\n",
    "            print password + \" is not a correct password\"\n",
    "            continue\n",
    "\n",
    "\n",
    "# calling functions\n",
    "if __name__ == '__main__':\n",
    "    start = time.time()\n",
    "    # Set wd\n",
    "    path = os.chdir(\"/Users/heidinguyen/Downloads/\")\n",
    "    # zip file to crack and dictionary to use\n",
    "    zipFile = 'evil.zip'\n",
    "    dictfile =  'dictionary.txt'\n",
    "    extractFile(zipFile,dictfile) \n",
    "    print 'It took', time.time()-start, 'seconds.' \n"
   ]
  },
  {
   "cell_type": "markdown",
   "metadata": {},
   "source": [
    "Reference: \n",
    "\n",
    "https://codingsec.net/2016/11/crack-password-zip-files-using-python/\n"
   ]
  },
  {
   "cell_type": "code",
   "execution_count": null,
   "metadata": {},
   "outputs": [],
   "source": []
  }
 ],
 "metadata": {
  "kernelspec": {
   "display_name": "Python 2",
   "language": "python",
   "name": "python2"
  },
  "language_info": {
   "codemirror_mode": {
    "name": "ipython",
    "version": 2
   },
   "file_extension": ".py",
   "mimetype": "text/x-python",
   "name": "python",
   "nbconvert_exporter": "python",
   "pygments_lexer": "ipython2",
   "version": "2.7.15"
  }
 },
 "nbformat": 4,
 "nbformat_minor": 2
}
