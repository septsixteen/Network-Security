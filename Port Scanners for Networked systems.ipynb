{
 "cells": [
  {
   "cell_type": "markdown",
   "metadata": {},
   "source": [
    "# Port Scanners for Networked Systems\n",
    "By Heidi Nguyen"
   ]
  },
  {
   "cell_type": "markdown",
   "metadata": {},
   "source": [
    "## Method\n",
    "\n",
    "    - Create a simple Python-based port scanner using the socket library. \n",
    "    - Create a script that iterates through a range of IP addresses, and, for each IP address, will identify the active ports available for that IP address. At least ports corresponding to telnet, ftp SSH, smtp, http, imap, and https services should be scanned and identified.\n"
   ]
  },
  {
   "cell_type": "code",
   "execution_count": 2,
   "metadata": {},
   "outputs": [
    {
     "name": "stdout",
     "output_type": "stream",
     "text": [
      " ------------------------------------------------------------\n",
      "Remote server info  ('sdars16.systems.smu.edu', ['164.70.119.129.in-addr.arpa'], ['129.119.70.164'])\n",
      "Please wait, scanning remote server IP 129.119.70.164\n",
      "------------------------------------------------------------\n",
      "Port 80: Open\n",
      "Port 443: Open\n",
      "It took 2987.30513191 seconds.\n",
      "------------------------------------------------------------\n",
      "Remote server info  ('sdars17.systems.smu.edu', ['165.70.119.129.in-addr.arpa'], ['129.119.70.165'])\n",
      "Please wait, scanning remote server IP 129.119.70.165\n",
      "------------------------------------------------------------\n",
      "Port 80: Open\n",
      "It took 3047.65452099 seconds.\n",
      "------------------------------------------------------------\n",
      "Remote server info  ('sdars18.systems.smu.edu', ['166.70.119.129.in-addr.arpa'], ['129.119.70.166'])\n",
      "Please wait, scanning remote server IP 129.119.70.166\n",
      "------------------------------------------------------------\n",
      "Port 80: Open\n",
      "Port 443: Open\n",
      "It took 2945.58005214 seconds.\n"
     ]
    }
   ],
   "source": [
    "# !/usr/bin/env python\n",
    "# coding: utf-8\n",
    "\n",
    "#libraries\n",
    "from PIL import Image\n",
    "import sys, os, random, struct, hashlib, time\n",
    "import socket\n",
    "import subprocess\n",
    "\n",
    "# Clear the screen\n",
    "subprocess.call('clear', shell=True)\n",
    "\n",
    "# This small port scanner program will try to connect on every port you define for a particular host.\n",
    "def portScan(targetServerIP, targetPortsList):\n",
    "    try:\n",
    "        # Print a banner with information of the Server we are about to scan\n",
    "        # translates numerical IP to name\n",
    "        targetName = socket.gethostbyaddr(targetServerIP)\n",
    "        print \"-\" * 60\n",
    "        print \"Remote server info \", targetName\n",
    "        print \"Please wait, scanning remote server IP\", targetServerIP\n",
    "        print \"-\" * 60\n",
    "    except:\n",
    "        print \"[-] Cannot resolve '%s': Unknown host\" %targetServerIP\n",
    "        return\n",
    "    \n",
    "    # start scanning\n",
    "    # start timing\n",
    "    start = time.time()\n",
    "    try:\n",
    "        for port in targetPortsList:  # range(1,1025)\n",
    "            # creates instance of socket for TCP\n",
    "            sock = socket.socket(socket.AF_INET, socket.SOCK_STREAM)\n",
    "            # takes in IP address and port\n",
    "            # Like connect(address), but return an error indicator instead of\n",
    "            # raising an exception for errors returned by the C-level connect() call\n",
    "            # (other problems, such as “host not found,” can still raise exceptions).\n",
    "            # The error indicator is 0 if the operation succeeded, otherwise the value of the errno variable.\n",
    "            # This is useful to support, for example, asynchronous connects.\n",
    "            result = sock.connect_ex((targetServerIP, port))\n",
    "            # if error indicator is 0, the operation succeeded.\n",
    "            if result == 0:\n",
    "                print \"Port {}: Open\".format(port)\n",
    "            sock.close()\n",
    "    \n",
    "    except KeyboardInterrupt:\n",
    "        print \"You pressed Ctrl+C\"\n",
    "        sys.exit()\n",
    "    \n",
    "    except socket.error:\n",
    "        print \"Couldn't connect to server\"\n",
    "        sys.exit()\n",
    "    \n",
    "    # Print the timing information:\n",
    "    print 'It took', time.time()-start, 'seconds.'\n",
    "\n",
    "# calling functions\n",
    "if __name__ == '__main__':\n",
    "    # Set wd\n",
    "    path = os.chdir(\"/Users/heidinguyen/Downloads/\")\n",
    "    targetPortsList = range(1,1025)\n",
    "    # Loop through a sequencial list of IP Addresses\n",
    "    for x in range(164, 167):\n",
    "        targetServerIP = '129.119.70.' + str(x) #  www.smu.edu IP 129.119.70.166\n",
    "        # call portScan()\n",
    "        portScan(targetServerIP, targetPortsList)\n"
   ]
  },
  {
   "cell_type": "markdown",
   "metadata": {},
   "source": [
    "Reference: \n",
    "\n",
    "    1. http://www.pythonforbeginners.com/code-snippets-source-code/port-scanner-in-python\n",
    "    2. https://codingsec.net/2016/11/crack-password-zip-files-using-python/\n",
    "    3. https://github.com/shadow-box/Violent-Python-Examples/blob/master/Chapter-2/1-portScan.py\n",
    "    4. https://en.wikipedia.org/wiki/Banner_grabbing\n",
    "\n"
   ]
  },
  {
   "cell_type": "code",
   "execution_count": null,
   "metadata": {},
   "outputs": [],
   "source": []
  }
 ],
 "metadata": {
  "kernelspec": {
   "display_name": "Python 2",
   "language": "python",
   "name": "python2"
  },
  "language_info": {
   "codemirror_mode": {
    "name": "ipython",
    "version": 2
   },
   "file_extension": ".py",
   "mimetype": "text/x-python",
   "name": "python",
   "nbconvert_exporter": "python",
   "pygments_lexer": "ipython2",
   "version": "2.7.15"
  }
 },
 "nbformat": 4,
 "nbformat_minor": 2
}
