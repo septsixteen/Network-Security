{
 "cells": [
  {
   "cell_type": "markdown",
   "metadata": {},
   "source": [
    "# Simple Substitution Or Cyclic Cipher to Encrypt Messages. \n",
    "By Heidi Nguyen"
   ]
  },
  {
   "cell_type": "markdown",
   "metadata": {},
   "source": [
    "- Write the cyclic cipher that was used by Julius Caesar to communicate with his generals. \n",
    "- Caesar cipher is done by replacing each letter by a letter some fixed number of positions down the alphabet.\n",
    "- The program prompt user to enter the message and how many positions user want to shift the message.\n",
    "- The program then does the mapping between the numerical value and the character graphic by converting between the ASCII code and the character value in Python. \n"
   ]
  },
  {
   "cell_type": "code",
   "execution_count": 1,
   "metadata": {},
   "outputs": [
    {
     "name": "stdout",
     "output_type": "stream",
     "text": [
      "This is a cyclic cipher program that will encrypt messages.\n",
      "Enter sentence to encrypt:hello github. You are great.\n",
      "Enter shift value (an integer between 1 - 100):4\n",
      "Sentence to encrypt: \"hello github. You are great.\"\n",
      "Shift value: 4\n",
      "Part 1 - The encoded phrase is: hello github. You are great.\n",
      "Part 2 - The encoded phrase is: xxxxx xxxxxx. Xxx xxx xxxxx.\n",
      "Part 3 - The encoded phrase is: lipps kmxlyf. Csy evi kviex.\n"
     ]
    }
   ],
   "source": [
    "# coding: utf-8\n",
    "# cipher.py\n",
    "# Simple Substitution Cipher\n",
    "\n",
    "# libraries \n",
    "import re\n",
    "\n",
    "# getting the input\n",
    "def prompt_phrase():\n",
    "    # This is a cyclic cipher program that will encrypt messages.\n",
    "    print \"This is a cyclic cipher program that will encrypt messages.\"\n",
    "    \n",
    "    # prompt the user for a phrase to encode\n",
    "    phrase = raw_input(\"Enter sentence to encrypt:\")\n",
    "    while not phrase:\n",
    "        phrase = raw_input(\"It's empty. Enter sentence to encrypt:\")\n",
    "    \n",
    "    # prompt the user for the shift value, try except empty input\n",
    "    try:\n",
    "        shift_value = input(\"Enter shift value (an integer between 1 - 100):\")\n",
    "        while (type(shift_value) != int):\n",
    "            shift_value = input(\"Enter a valid integer shift value between 1 - 100:\")\n",
    "    except (SyntaxError, NameError) as err:\n",
    "        #     except (SyntaxError) as err:\n",
    "        shift_value = input(\"Enter a valid integer shift value between 1 - 100:\")\n",
    "\n",
    "    # confirming phrase and shift value\n",
    "    print 'Sentence to encrypt: \"%s\"' %phrase\n",
    "    # print 'Your phrase has %d characters\"' %len(phase)\n",
    "    print 'Shift value: %d' %shift_value\n",
    "    # print 'Shift value type:' , type(shift_value)\n",
    "    return phrase, shift_value\n",
    "\n",
    "# encoding function\n",
    "def encode_cipher(phrase,shift_value):\n",
    "    # 1- structure\n",
    "    # Initial encoding -- need modification later\n",
    "    encodedPhrase = \"\"\n",
    "    for c in phrase:\n",
    "        # concatenate to the encodedPhrase\n",
    "        encodedPhrase += c\n",
    "    # print 'The encoded phrase is: %s' %encodedPhrase\n",
    "    \n",
    "    # 2- We are going to apply the cipher only to the alphabetic characters and we will ignore the others.\n",
    "    x_encodedPhrase = re.sub('[a-z]', 'x', encodedPhrase) # ascii code [97 - 122]\n",
    "    X_encodedPhrase = re.sub('[A-Z]', 'X', x_encodedPhrase) # ascii code [65 - 90]\n",
    "    # print 'The encoded phrase is: %s' %X_encodedPhrase\n",
    "\n",
    "    # 3- Now modify your code, so that it produces the encoded string using the cyclic cipher with the shift value entered by the user.\n",
    "    # Apply the cipher separately to the upper and lower case letters.\n",
    "\n",
    "    # convert encodedPhrase to have a list\n",
    "    encodedPhrase_list = list(encodedPhrase)\n",
    "    \n",
    "    # shifting all lowercase: ascii code [97 - 122]\n",
    "    # get all x positions into a list\n",
    "    x_pos = [pos for pos, char in enumerate(X_encodedPhrase) if char == 'x']\n",
    "    for pos in x_pos:\n",
    "        shift_x = ord(encodedPhrase[pos]) + shift_value # converts a letter to ascii code asciiCode = ord(letter)\n",
    "        while shift_x > 122:\n",
    "            shift_x = shift_x%122 + 96\n",
    "        # replacing \"x\" with the shifted character once shift_c <= 122:\n",
    "        # converts ascii code to a letter letterRes = chr(asciiCode\n",
    "        encodedPhrase_list[pos] = chr(shift_x)\n",
    "\n",
    "    # shifting all uppercase: ascii code [65 - 90]\n",
    "    # get all X positions into a list\n",
    "    X_pos = [pos for pos, char in enumerate(X_encodedPhrase) if char == 'X']\n",
    "    for pos in X_pos:\n",
    "        shift_X = ord(encodedPhrase[pos]) + shift_value # converts a letter to ascii code asciiCode = ord(letter)\n",
    "        while shift_X > 90:\n",
    "            shift_X = shift_X%90 + 64\n",
    "        # replacing \"x\" with the shifted character once shift_c <= 122:\n",
    "        encodedPhrase_list[pos] = chr(shift_X) # converts ascii code to a letter letterRes = chr(asciiCode\n",
    "\n",
    "    # join the list encodedPhrase to get a string\n",
    "    new_encodedPhrase = ''.join(str(e) for e in encodedPhrase_list)\n",
    "    # print 'The encoded phrase is: %s' %new_encodedPhrase\n",
    "    return (encodedPhrase,X_encodedPhrase, new_encodedPhrase) #\n",
    "\n",
    "# This allows us to use the module whichever way we want.\n",
    "if __name__ == '__main__':\n",
    "    phrase1, shift_value1 = prompt_phrase()\n",
    "    encode_cipher(phrase1,shift_value1)\n",
    "    \n",
    "    # Test with Mayday! Mayday! MSDS7349-Session402\n",
    "    # call encode_cipher(phrase,shift_value) and print out Part 1, Part 2, Part 3\n",
    "    print \"Part 1 - The encoded phrase is: %s\" %encode_cipher(phrase1,shift_value1)[0]\n",
    "    print \"Part 2 - The encoded phrase is: %s\" %encode_cipher(phrase1,shift_value1)[1]\n",
    "    print \"Part 3 - The encoded phrase is: %s\" %encode_cipher(phrase1,shift_value1)[2]\n"
   ]
  },
  {
   "cell_type": "code",
   "execution_count": null,
   "metadata": {},
   "outputs": [],
   "source": []
  }
 ],
 "metadata": {
  "kernelspec": {
   "display_name": "Python 2",
   "language": "python",
   "name": "python2"
  },
  "language_info": {
   "codemirror_mode": {
    "name": "ipython",
    "version": 2
   },
   "file_extension": ".py",
   "mimetype": "text/x-python",
   "name": "python",
   "nbconvert_exporter": "python",
   "pygments_lexer": "ipython2",
   "version": "2.7.15"
  }
 },
 "nbformat": 4,
 "nbformat_minor": 2
}
